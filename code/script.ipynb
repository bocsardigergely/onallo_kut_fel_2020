{
 "metadata": {
  "language_info": {
   "codemirror_mode": {
    "name": "ipython",
    "version": 3
   },
   "file_extension": ".py",
   "mimetype": "text/x-python",
   "name": "python",
   "nbconvert_exporter": "python",
   "pygments_lexer": "ipython3",
   "version": "3.8.3-final"
  },
  "orig_nbformat": 2,
  "kernelspec": {
   "name": "python3",
   "display_name": "Python 3"
  }
 },
 "nbformat": 4,
 "nbformat_minor": 2,
 "cells": [
  {
   "source": [
    "# 2020 Önálló kutatási feladat"
   ],
   "cell_type": "markdown",
   "metadata": {}
  },
  {
   "cell_type": "code",
   "execution_count": 2,
   "metadata": {},
   "outputs": [],
   "source": [
    "import pandas as pd"
   ]
  },
  {
   "cell_type": "code",
   "execution_count": 21,
   "metadata": {},
   "outputs": [
    {
     "output_type": "execute_result",
     "data": {
      "text/plain": [
       "            Date         Open        Close     Change\n",
       "0     2000-01-03  1469.250000  1455.219971 -14.030029\n",
       "1     2000-01-04  1455.219971  1399.420044 -55.799927\n",
       "2     2000-01-05  1399.420044  1402.109985   2.689941\n",
       "3     2000-01-06  1402.109985  1403.449951   1.339966\n",
       "4     2000-01-07  1403.449951  1441.469971  38.020020\n",
       "...          ...          ...          ...        ...\n",
       "5164  2020-07-14  3141.110107  3197.520020  56.409913\n",
       "5165  2020-07-15  3225.979980  3226.560059   0.580079\n",
       "5166  2020-07-16  3208.360107  3215.570068   7.209961\n",
       "5167  2020-07-17  3224.209961  3224.729980   0.520019\n",
       "5168  2020-07-20  3224.290039  3251.840088  27.550049\n",
       "\n",
       "[5169 rows x 4 columns]"
      ],
      "text/html": "<div>\n<style scoped>\n    .dataframe tbody tr th:only-of-type {\n        vertical-align: middle;\n    }\n\n    .dataframe tbody tr th {\n        vertical-align: top;\n    }\n\n    .dataframe thead th {\n        text-align: right;\n    }\n</style>\n<table border=\"1\" class=\"dataframe\">\n  <thead>\n    <tr style=\"text-align: right;\">\n      <th></th>\n      <th>Date</th>\n      <th>Open</th>\n      <th>Close</th>\n      <th>Change</th>\n    </tr>\n  </thead>\n  <tbody>\n    <tr>\n      <th>0</th>\n      <td>2000-01-03</td>\n      <td>1469.250000</td>\n      <td>1455.219971</td>\n      <td>-14.030029</td>\n    </tr>\n    <tr>\n      <th>1</th>\n      <td>2000-01-04</td>\n      <td>1455.219971</td>\n      <td>1399.420044</td>\n      <td>-55.799927</td>\n    </tr>\n    <tr>\n      <th>2</th>\n      <td>2000-01-05</td>\n      <td>1399.420044</td>\n      <td>1402.109985</td>\n      <td>2.689941</td>\n    </tr>\n    <tr>\n      <th>3</th>\n      <td>2000-01-06</td>\n      <td>1402.109985</td>\n      <td>1403.449951</td>\n      <td>1.339966</td>\n    </tr>\n    <tr>\n      <th>4</th>\n      <td>2000-01-07</td>\n      <td>1403.449951</td>\n      <td>1441.469971</td>\n      <td>38.020020</td>\n    </tr>\n    <tr>\n      <th>...</th>\n      <td>...</td>\n      <td>...</td>\n      <td>...</td>\n      <td>...</td>\n    </tr>\n    <tr>\n      <th>5164</th>\n      <td>2020-07-14</td>\n      <td>3141.110107</td>\n      <td>3197.520020</td>\n      <td>56.409913</td>\n    </tr>\n    <tr>\n      <th>5165</th>\n      <td>2020-07-15</td>\n      <td>3225.979980</td>\n      <td>3226.560059</td>\n      <td>0.580079</td>\n    </tr>\n    <tr>\n      <th>5166</th>\n      <td>2020-07-16</td>\n      <td>3208.360107</td>\n      <td>3215.570068</td>\n      <td>7.209961</td>\n    </tr>\n    <tr>\n      <th>5167</th>\n      <td>2020-07-17</td>\n      <td>3224.209961</td>\n      <td>3224.729980</td>\n      <td>0.520019</td>\n    </tr>\n    <tr>\n      <th>5168</th>\n      <td>2020-07-20</td>\n      <td>3224.290039</td>\n      <td>3251.840088</td>\n      <td>27.550049</td>\n    </tr>\n  </tbody>\n</table>\n<p>5169 rows × 4 columns</p>\n</div>"
     },
     "metadata": {},
     "execution_count": 21
    }
   ],
   "source": [
    "stock = pd.read_csv('..\\Adatok\\stock-data\\SP500.csv')\n",
    "\n",
    "stock = stock.drop(columns=['High','Low','Adj Close','Volume'])\n",
    "\n",
    "def Change(row):\n",
    "    return (row['Close']-row['Open'])\n",
    "stock['Change'] = stock.apply (lambda row: Change(row), axis=1)\n",
    "\n",
    "def label(row, threshold): \n",
    "    if abs(row['Change']) > threshold:\n",
    "        if row['Change'] > 0: return int(1)\n",
    "        else: return int(0)\n",
    "\n",
    "\n",
    "def generate_data(sensitivity):\n",
    "    stock['Label'] = stock.apply (lambda row: label(row, sensitivity), axis=1)\n",
    "    stock_ready = stock.drop(columns=['Open', 'Close', 'Change'])\n",
    "    return stock_ready \n",
    "    \n",
    "stock\n"
   ]
  },
  {
   "source": [
    "### Itt tudjuk a *generate_data* függvény paraméterével állítani, hogy milyen mértékű változást veszünk figyelembe."
   ],
   "cell_type": "markdown",
   "metadata": {}
  },
  {
   "cell_type": "code",
   "execution_count": 22,
   "metadata": {},
   "outputs": [
    {
     "output_type": "execute_result",
     "data": {
      "text/plain": [
       "            Date  Label\n",
       "0     2000-01-03    0.0\n",
       "1     2000-01-04    0.0\n",
       "2     2000-01-05    1.0\n",
       "3     2000-01-06    1.0\n",
       "4     2000-01-07    1.0\n",
       "...          ...    ...\n",
       "5164  2020-07-14    1.0\n",
       "5165  2020-07-15    1.0\n",
       "5166  2020-07-16    1.0\n",
       "5167  2020-07-17    1.0\n",
       "5168  2020-07-20    1.0\n",
       "\n",
       "[5169 rows x 2 columns]"
      ],
      "text/html": "<div>\n<style scoped>\n    .dataframe tbody tr th:only-of-type {\n        vertical-align: middle;\n    }\n\n    .dataframe tbody tr th {\n        vertical-align: top;\n    }\n\n    .dataframe thead th {\n        text-align: right;\n    }\n</style>\n<table border=\"1\" class=\"dataframe\">\n  <thead>\n    <tr style=\"text-align: right;\">\n      <th></th>\n      <th>Date</th>\n      <th>Label</th>\n    </tr>\n  </thead>\n  <tbody>\n    <tr>\n      <th>0</th>\n      <td>2000-01-03</td>\n      <td>0.0</td>\n    </tr>\n    <tr>\n      <th>1</th>\n      <td>2000-01-04</td>\n      <td>0.0</td>\n    </tr>\n    <tr>\n      <th>2</th>\n      <td>2000-01-05</td>\n      <td>1.0</td>\n    </tr>\n    <tr>\n      <th>3</th>\n      <td>2000-01-06</td>\n      <td>1.0</td>\n    </tr>\n    <tr>\n      <th>4</th>\n      <td>2000-01-07</td>\n      <td>1.0</td>\n    </tr>\n    <tr>\n      <th>...</th>\n      <td>...</td>\n      <td>...</td>\n    </tr>\n    <tr>\n      <th>5164</th>\n      <td>2020-07-14</td>\n      <td>1.0</td>\n    </tr>\n    <tr>\n      <th>5165</th>\n      <td>2020-07-15</td>\n      <td>1.0</td>\n    </tr>\n    <tr>\n      <th>5166</th>\n      <td>2020-07-16</td>\n      <td>1.0</td>\n    </tr>\n    <tr>\n      <th>5167</th>\n      <td>2020-07-17</td>\n      <td>1.0</td>\n    </tr>\n    <tr>\n      <th>5168</th>\n      <td>2020-07-20</td>\n      <td>1.0</td>\n    </tr>\n  </tbody>\n</table>\n<p>5169 rows × 2 columns</p>\n</div>"
     },
     "metadata": {},
     "execution_count": 22
    }
   ],
   "source": [
    "generate_data(0)"
   ]
  },
  {
   "cell_type": "code",
   "execution_count": null,
   "metadata": {},
   "outputs": [],
   "source": []
  }
 ]
}