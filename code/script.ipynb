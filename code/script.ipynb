{
 "metadata": {
  "language_info": {
   "codemirror_mode": {
    "name": "ipython",
    "version": 3
   },
   "file_extension": ".py",
   "mimetype": "text/x-python",
   "name": "python",
   "nbconvert_exporter": "python",
   "pygments_lexer": "ipython3",
   "version": "3.8.3-final"
  },
  "orig_nbformat": 2,
  "kernelspec": {
   "name": "python3",
   "display_name": "Python 3"
  }
 },
 "nbformat": 4,
 "nbformat_minor": 2,
 "cells": [
  {
   "source": [
    "# 2020 Önálló kutatási feladat"
   ],
   "cell_type": "markdown",
   "metadata": {}
  },
  {
   "cell_type": "code",
   "execution_count": 2,
   "metadata": {},
   "outputs": [],
   "source": [
    "import pandas as pd"
   ]
  },
  {
   "source": [
    "## Stock data preprocessing"
   ],
   "cell_type": "markdown",
   "metadata": {}
  },
  {
   "cell_type": "code",
   "execution_count": 44,
   "metadata": {},
   "outputs": [
    {
     "output_type": "execute_result",
     "data": {
      "text/plain": [
       "           Date         Open        Close     Change\n",
       "0    2000-01-03  1469.250000  1455.219971 -14.030029\n",
       "1    2000-01-04  1455.219971  1399.420044 -55.799927\n",
       "2    2000-01-05  1399.420044  1402.109985   2.689941\n",
       "3    2000-01-06  1402.109985  1403.449951   1.339966\n",
       "4    2000-01-07  1403.449951  1441.469971  38.020020\n",
       "...         ...          ...          ...        ...\n",
       "5164 2020-07-14  3141.110107  3197.520020  56.409913\n",
       "5165 2020-07-15  3225.979980  3226.560059   0.580079\n",
       "5166 2020-07-16  3208.360107  3215.570068   7.209961\n",
       "5167 2020-07-17  3224.209961  3224.729980   0.520019\n",
       "5168 2020-07-20  3224.290039  3251.840088  27.550049\n",
       "\n",
       "[5169 rows x 4 columns]"
      ],
      "text/html": "<div>\n<style scoped>\n    .dataframe tbody tr th:only-of-type {\n        vertical-align: middle;\n    }\n\n    .dataframe tbody tr th {\n        vertical-align: top;\n    }\n\n    .dataframe thead th {\n        text-align: right;\n    }\n</style>\n<table border=\"1\" class=\"dataframe\">\n  <thead>\n    <tr style=\"text-align: right;\">\n      <th></th>\n      <th>Date</th>\n      <th>Open</th>\n      <th>Close</th>\n      <th>Change</th>\n    </tr>\n  </thead>\n  <tbody>\n    <tr>\n      <th>0</th>\n      <td>2000-01-03</td>\n      <td>1469.250000</td>\n      <td>1455.219971</td>\n      <td>-14.030029</td>\n    </tr>\n    <tr>\n      <th>1</th>\n      <td>2000-01-04</td>\n      <td>1455.219971</td>\n      <td>1399.420044</td>\n      <td>-55.799927</td>\n    </tr>\n    <tr>\n      <th>2</th>\n      <td>2000-01-05</td>\n      <td>1399.420044</td>\n      <td>1402.109985</td>\n      <td>2.689941</td>\n    </tr>\n    <tr>\n      <th>3</th>\n      <td>2000-01-06</td>\n      <td>1402.109985</td>\n      <td>1403.449951</td>\n      <td>1.339966</td>\n    </tr>\n    <tr>\n      <th>4</th>\n      <td>2000-01-07</td>\n      <td>1403.449951</td>\n      <td>1441.469971</td>\n      <td>38.020020</td>\n    </tr>\n    <tr>\n      <th>...</th>\n      <td>...</td>\n      <td>...</td>\n      <td>...</td>\n      <td>...</td>\n    </tr>\n    <tr>\n      <th>5164</th>\n      <td>2020-07-14</td>\n      <td>3141.110107</td>\n      <td>3197.520020</td>\n      <td>56.409913</td>\n    </tr>\n    <tr>\n      <th>5165</th>\n      <td>2020-07-15</td>\n      <td>3225.979980</td>\n      <td>3226.560059</td>\n      <td>0.580079</td>\n    </tr>\n    <tr>\n      <th>5166</th>\n      <td>2020-07-16</td>\n      <td>3208.360107</td>\n      <td>3215.570068</td>\n      <td>7.209961</td>\n    </tr>\n    <tr>\n      <th>5167</th>\n      <td>2020-07-17</td>\n      <td>3224.209961</td>\n      <td>3224.729980</td>\n      <td>0.520019</td>\n    </tr>\n    <tr>\n      <th>5168</th>\n      <td>2020-07-20</td>\n      <td>3224.290039</td>\n      <td>3251.840088</td>\n      <td>27.550049</td>\n    </tr>\n  </tbody>\n</table>\n<p>5169 rows × 4 columns</p>\n</div>"
     },
     "metadata": {},
     "execution_count": 44
    }
   ],
   "source": [
    "stock = pd.read_csv('..\\Adatok\\stock-data\\SP500.csv')\n",
    "\n",
    "stock = stock.drop(columns=['High','Low','Adj Close','Volume'])\n",
    "stock['Date'] = pd.to_datetime(stock['Date'])\n",
    "\n",
    "def Change(row):\n",
    "    return (row['Close']-row['Open'])\n",
    "stock['Change'] = stock.apply (lambda row: Change(row), axis=1)\n",
    "\n",
    "def label(row, threshold): \n",
    "    if abs(row['Change']) > threshold:\n",
    "        if row['Change'] > 0: return int(1)\n",
    "        else: return int(0)\n",
    "\n",
    "\n",
    "def generate_data(sensitivity):\n",
    "    stock['Label'] = stock.apply (lambda row: label(row, sensitivity), axis=1)\n",
    "    stock_ready = stock.drop(columns=['Open', 'Close', 'Change'])\n",
    "    stock_ready = stock_ready[stock_ready.Label.notna()]\n",
    "    return stock_ready \n",
    "\n",
    "stock\n"
   ]
  },
  {
   "source": [
    "### Itt tudjuk a *generate_data* függvény paraméterével állítani, hogy milyen mértékű változást veszünk figyelembe."
   ],
   "cell_type": "markdown",
   "metadata": {}
  },
  {
   "cell_type": "code",
   "execution_count": 37,
   "metadata": {},
   "outputs": [
    {
     "output_type": "execute_result",
     "data": {
      "text/plain": [
       "            Date  Label\n",
       "1     2000-01-04    0.0\n",
       "4     2000-01-07    1.0\n",
       "14    2000-01-24    0.0\n",
       "18    2000-01-28    0.0\n",
       "19    2000-01-31    1.0\n",
       "...          ...    ...\n",
       "5161  2020-07-09    0.0\n",
       "5162  2020-07-10    1.0\n",
       "5163  2020-07-13    0.0\n",
       "5164  2020-07-14    1.0\n",
       "5168  2020-07-20    1.0\n",
       "\n",
       "[793 rows x 2 columns]"
      ],
      "text/html": "<div>\n<style scoped>\n    .dataframe tbody tr th:only-of-type {\n        vertical-align: middle;\n    }\n\n    .dataframe tbody tr th {\n        vertical-align: top;\n    }\n\n    .dataframe thead th {\n        text-align: right;\n    }\n</style>\n<table border=\"1\" class=\"dataframe\">\n  <thead>\n    <tr style=\"text-align: right;\">\n      <th></th>\n      <th>Date</th>\n      <th>Label</th>\n    </tr>\n  </thead>\n  <tbody>\n    <tr>\n      <th>1</th>\n      <td>2000-01-04</td>\n      <td>0.0</td>\n    </tr>\n    <tr>\n      <th>4</th>\n      <td>2000-01-07</td>\n      <td>1.0</td>\n    </tr>\n    <tr>\n      <th>14</th>\n      <td>2000-01-24</td>\n      <td>0.0</td>\n    </tr>\n    <tr>\n      <th>18</th>\n      <td>2000-01-28</td>\n      <td>0.0</td>\n    </tr>\n    <tr>\n      <th>19</th>\n      <td>2000-01-31</td>\n      <td>1.0</td>\n    </tr>\n    <tr>\n      <th>...</th>\n      <td>...</td>\n      <td>...</td>\n    </tr>\n    <tr>\n      <th>5161</th>\n      <td>2020-07-09</td>\n      <td>0.0</td>\n    </tr>\n    <tr>\n      <th>5162</th>\n      <td>2020-07-10</td>\n      <td>1.0</td>\n    </tr>\n    <tr>\n      <th>5163</th>\n      <td>2020-07-13</td>\n      <td>0.0</td>\n    </tr>\n    <tr>\n      <th>5164</th>\n      <td>2020-07-14</td>\n      <td>1.0</td>\n    </tr>\n    <tr>\n      <th>5168</th>\n      <td>2020-07-20</td>\n      <td>1.0</td>\n    </tr>\n  </tbody>\n</table>\n<p>793 rows × 2 columns</p>\n</div>"
     },
     "metadata": {},
     "execution_count": 37
    }
   ],
   "source": [
    "generate_data(20)"
   ]
  },
  {
   "cell_type": "code",
   "execution_count": 51,
   "metadata": {},
   "outputs": [
    {
     "output_type": "execute_result",
     "data": {
      "text/plain": [
       "                    Date                                         Tweet-text\n",
       "173  2017-01-20 13:05:00  In the meantime I want to hear what you're thi...\n",
       "174  2017-01-20 13:04:00  Hi everybody! Back to the original handle. Is ...\n",
       "175  2017-01-10 15:44:00  Tonight President Obama reflects on eight year...\n",
       "176  2016-11-05 08:38:00  In the weekly address President Obama discusse...\n",
       "177  2016-11-04 15:16:00  Let's keep working to keep our economy on a be...\n",
       "...                  ...                                                ...\n",
       "6846 2012-11-06 05:12:00  25 reasons that 25 people are voting for Presi...\n",
       "6847 2012-11-06 04:49:00  At the final rally of his final campaign last ...\n",
       "6848 2012-11-06 04:00:00  It’s Election Day! This is your last chance to...\n",
       "6849 2012-11-06 03:28:00  Election Day is here! Confirm your polling pla...\n",
       "6850 2012-11-05 22:07:00  President Obama tells the story of \"Fired up! ...\n",
       "\n",
       "[6678 rows x 2 columns]"
      ],
      "text/html": "<div>\n<style scoped>\n    .dataframe tbody tr th:only-of-type {\n        vertical-align: middle;\n    }\n\n    .dataframe tbody tr th {\n        vertical-align: top;\n    }\n\n    .dataframe thead th {\n        text-align: right;\n    }\n</style>\n<table border=\"1\" class=\"dataframe\">\n  <thead>\n    <tr style=\"text-align: right;\">\n      <th></th>\n      <th>Date</th>\n      <th>Tweet-text</th>\n    </tr>\n  </thead>\n  <tbody>\n    <tr>\n      <th>173</th>\n      <td>2017-01-20 13:05:00</td>\n      <td>In the meantime I want to hear what you're thi...</td>\n    </tr>\n    <tr>\n      <th>174</th>\n      <td>2017-01-20 13:04:00</td>\n      <td>Hi everybody! Back to the original handle. Is ...</td>\n    </tr>\n    <tr>\n      <th>175</th>\n      <td>2017-01-10 15:44:00</td>\n      <td>Tonight President Obama reflects on eight year...</td>\n    </tr>\n    <tr>\n      <th>176</th>\n      <td>2016-11-05 08:38:00</td>\n      <td>In the weekly address President Obama discusse...</td>\n    </tr>\n    <tr>\n      <th>177</th>\n      <td>2016-11-04 15:16:00</td>\n      <td>Let's keep working to keep our economy on a be...</td>\n    </tr>\n    <tr>\n      <th>...</th>\n      <td>...</td>\n      <td>...</td>\n    </tr>\n    <tr>\n      <th>6846</th>\n      <td>2012-11-06 05:12:00</td>\n      <td>25 reasons that 25 people are voting for Presi...</td>\n    </tr>\n    <tr>\n      <th>6847</th>\n      <td>2012-11-06 04:49:00</td>\n      <td>At the final rally of his final campaign last ...</td>\n    </tr>\n    <tr>\n      <th>6848</th>\n      <td>2012-11-06 04:00:00</td>\n      <td>It’s Election Day! This is your last chance to...</td>\n    </tr>\n    <tr>\n      <th>6849</th>\n      <td>2012-11-06 03:28:00</td>\n      <td>Election Day is here! Confirm your polling pla...</td>\n    </tr>\n    <tr>\n      <th>6850</th>\n      <td>2012-11-05 22:07:00</td>\n      <td>President Obama tells the story of \"Fired up! ...</td>\n    </tr>\n  </tbody>\n</table>\n<p>6678 rows × 2 columns</p>\n</div>"
     },
     "metadata": {},
     "execution_count": 51
    }
   ],
   "source": [
    "tweets_dem = pd.read_csv('..\\Adatok\\obama\\obama-tweets.csv')\n",
    "tweets_dem = tweets_dem.drop(columns=['Username', 'Tweet Link', 'Retweets', 'Likes', 'TweetImageUrl', 'Image'])\n",
    "tweets_dem['Date'] = pd.to_datetime(tweets_dem['Date'], format='%Y/%m/%d_%H:%M')\n",
    "tweets_dem = tweets_dem[tweets_dem.Date < pd.to_datetime('2017-01-21')]\n",
    "\n",
    "tweets_dem"
   ]
  },
  {
   "cell_type": "code",
   "execution_count": 60,
   "metadata": {},
   "outputs": [
    {
     "output_type": "execute_result",
     "data": {
      "text/plain": [
       "                     date                                            content\n",
       "31241 2017-01-19 06:52:22  \"It wasn't Donald Trump that divided this coun...\n",
       "31242 2017-01-19 07:00:13  Getting ready to leave for Washington, D.C. Th...\n",
       "31243 2017-01-19 07:02:18  the American people. I have no doubt that we w...\n",
       "31244 2017-01-19 14:13:57  On my way! # Inauguration2017https://twitter.c...\n",
       "31245 2017-01-19 14:18:32  Great Concert at 4:00 P.M. today at Lincoln Me...\n",
       "...                   ...                                                ...\n",
       "43347 2020-06-17 19:00:32  Joe Biden was a TOTAL FAILURE in Government. H...\n",
       "43348 2020-06-17 19:11:47  Will be interviewed on @ seanhannity tonight a...\n",
       "43349 2020-06-17 21:27:33                         pic.twitter.com/3lm1spbU8X\n",
       "43350 2020-06-17 21:28:38                         pic.twitter.com/vpCE5MadUz\n",
       "43351 2020-06-17 21:28:52                         pic.twitter.com/VLlc0BHW41\n",
       "\n",
       "[12111 rows x 2 columns]"
      ],
      "text/html": "<div>\n<style scoped>\n    .dataframe tbody tr th:only-of-type {\n        vertical-align: middle;\n    }\n\n    .dataframe tbody tr th {\n        vertical-align: top;\n    }\n\n    .dataframe thead th {\n        text-align: right;\n    }\n</style>\n<table border=\"1\" class=\"dataframe\">\n  <thead>\n    <tr style=\"text-align: right;\">\n      <th></th>\n      <th>date</th>\n      <th>content</th>\n    </tr>\n  </thead>\n  <tbody>\n    <tr>\n      <th>31241</th>\n      <td>2017-01-19 06:52:22</td>\n      <td>\"It wasn't Donald Trump that divided this coun...</td>\n    </tr>\n    <tr>\n      <th>31242</th>\n      <td>2017-01-19 07:00:13</td>\n      <td>Getting ready to leave for Washington, D.C. Th...</td>\n    </tr>\n    <tr>\n      <th>31243</th>\n      <td>2017-01-19 07:02:18</td>\n      <td>the American people. I have no doubt that we w...</td>\n    </tr>\n    <tr>\n      <th>31244</th>\n      <td>2017-01-19 14:13:57</td>\n      <td>On my way! # Inauguration2017https://twitter.c...</td>\n    </tr>\n    <tr>\n      <th>31245</th>\n      <td>2017-01-19 14:18:32</td>\n      <td>Great Concert at 4:00 P.M. today at Lincoln Me...</td>\n    </tr>\n    <tr>\n      <th>...</th>\n      <td>...</td>\n      <td>...</td>\n    </tr>\n    <tr>\n      <th>43347</th>\n      <td>2020-06-17 19:00:32</td>\n      <td>Joe Biden was a TOTAL FAILURE in Government. H...</td>\n    </tr>\n    <tr>\n      <th>43348</th>\n      <td>2020-06-17 19:11:47</td>\n      <td>Will be interviewed on @ seanhannity tonight a...</td>\n    </tr>\n    <tr>\n      <th>43349</th>\n      <td>2020-06-17 21:27:33</td>\n      <td>pic.twitter.com/3lm1spbU8X</td>\n    </tr>\n    <tr>\n      <th>43350</th>\n      <td>2020-06-17 21:28:38</td>\n      <td>pic.twitter.com/vpCE5MadUz</td>\n    </tr>\n    <tr>\n      <th>43351</th>\n      <td>2020-06-17 21:28:52</td>\n      <td>pic.twitter.com/VLlc0BHW41</td>\n    </tr>\n  </tbody>\n</table>\n<p>12111 rows × 2 columns</p>\n</div>"
     },
     "metadata": {},
     "execution_count": 60
    }
   ],
   "source": [
    "tweets_gop = pd.read_csv('../Adatok/trump/trump-tweets.csv')\n",
    "tweets_gop = tweets_gop.drop(columns=['id', 'link', 'retweets', 'favorites', 'mentions', 'hashtags'])\n",
    "tweets_gop['date'] = pd.to_datetime(tweets_gop['date'])\n",
    "tweets_gop = tweets_gop[['date', 'content']]\n",
    "tweets_gop = tweets_gop[ pd.to_datetime('2017-01-19') < tweets_gop.date]\n",
    "\n",
    "tweets_gop"
   ]
  },
  {
   "cell_type": "code",
   "execution_count": null,
   "metadata": {},
   "outputs": [],
   "source": []
  }
 ]
}