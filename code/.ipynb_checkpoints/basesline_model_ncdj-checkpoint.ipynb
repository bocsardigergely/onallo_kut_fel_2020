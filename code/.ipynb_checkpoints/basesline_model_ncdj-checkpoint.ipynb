{
 "metadata": {
  "language_info": {
   "codemirror_mode": {
    "name": "ipython",
    "version": 3
   },
   "file_extension": ".py",
   "mimetype": "text/x-python",
   "name": "python",
   "nbconvert_exporter": "python",
   "pygments_lexer": "ipython3",
   "version": "3.8.3-final"
  },
  "orig_nbformat": 2,
  "kernelspec": {
   "name": "python3",
   "display_name": "Python 3"
  }
 },
 "nbformat": 4,
 "nbformat_minor": 2,
 "cells": [
  {
   "source": [
    "# Első modellünk felállítása a már tisztított adatokkal"
   ],
   "cell_type": "markdown",
   "metadata": {}
  },
  {
   "cell_type": "code",
   "execution_count": 9,
   "metadata": {},
   "outputs": [],
   "source": [
    "import pandas as pd\n",
    "import sklearn\n"
   ]
  },
  {
   "source": [
    "Beolvasom a tisztított adatokat"
   ],
   "cell_type": "markdown",
   "metadata": {}
  },
  {
   "cell_type": "code",
   "execution_count": 10,
   "metadata": {},
   "outputs": [
    {
     "output_type": "execute_result",
     "data": {
      "text/plain": [
       "            date                                               text president  \\\n",
       "0     2012-11-05  President Obama tells the story of \"Fired up! ...     Obama   \n",
       "1     2012-11-06  Election Day is here! Confirm your polling pla...     Obama   \n",
       "2     2012-11-06  It’s Election Day! This is your last chance to...     Obama   \n",
       "3     2012-11-06  At the final rally of his final campaign last ...     Obama   \n",
       "4     2012-11-06  25 reasons that 25 people are voting for Presi...     Obama   \n",
       "...          ...                                                ...       ...   \n",
       "12105 2020-06-16                                          True!   …     Trump   \n",
       "12106 2020-06-16  A GREAT woman. Her son is looking down from he...     Trump   \n",
       "12107 2020-06-16  96% Approval Rating in the Republican Party. T...     Trump   \n",
       "12108 2020-06-17  Joe Biden was a TOTAL FAILURE in Government. H...     Trump   \n",
       "12109 2020-06-17  Will be interviewed on   tonight at 9:00   Enjoy!     Trump   \n",
       "\n",
       "       label  \n",
       "0          1  \n",
       "1          1  \n",
       "2          1  \n",
       "3          1  \n",
       "4          1  \n",
       "...      ...  \n",
       "12105     -1  \n",
       "12106     -1  \n",
       "12107     -1  \n",
       "12108     -1  \n",
       "12109     -1  \n",
       "\n",
       "[12110 rows x 4 columns]"
      ],
      "text/html": "<div>\n<style scoped>\n    .dataframe tbody tr th:only-of-type {\n        vertical-align: middle;\n    }\n\n    .dataframe tbody tr th {\n        vertical-align: top;\n    }\n\n    .dataframe thead th {\n        text-align: right;\n    }\n</style>\n<table border=\"1\" class=\"dataframe\">\n  <thead>\n    <tr style=\"text-align: right;\">\n      <th></th>\n      <th>date</th>\n      <th>text</th>\n      <th>president</th>\n      <th>label</th>\n    </tr>\n  </thead>\n  <tbody>\n    <tr>\n      <th>0</th>\n      <td>2012-11-05</td>\n      <td>President Obama tells the story of \"Fired up! ...</td>\n      <td>Obama</td>\n      <td>1</td>\n    </tr>\n    <tr>\n      <th>1</th>\n      <td>2012-11-06</td>\n      <td>Election Day is here! Confirm your polling pla...</td>\n      <td>Obama</td>\n      <td>1</td>\n    </tr>\n    <tr>\n      <th>2</th>\n      <td>2012-11-06</td>\n      <td>It’s Election Day! This is your last chance to...</td>\n      <td>Obama</td>\n      <td>1</td>\n    </tr>\n    <tr>\n      <th>3</th>\n      <td>2012-11-06</td>\n      <td>At the final rally of his final campaign last ...</td>\n      <td>Obama</td>\n      <td>1</td>\n    </tr>\n    <tr>\n      <th>4</th>\n      <td>2012-11-06</td>\n      <td>25 reasons that 25 people are voting for Presi...</td>\n      <td>Obama</td>\n      <td>1</td>\n    </tr>\n    <tr>\n      <th>...</th>\n      <td>...</td>\n      <td>...</td>\n      <td>...</td>\n      <td>...</td>\n    </tr>\n    <tr>\n      <th>12105</th>\n      <td>2020-06-16</td>\n      <td>True!   …</td>\n      <td>Trump</td>\n      <td>-1</td>\n    </tr>\n    <tr>\n      <th>12106</th>\n      <td>2020-06-16</td>\n      <td>A GREAT woman. Her son is looking down from he...</td>\n      <td>Trump</td>\n      <td>-1</td>\n    </tr>\n    <tr>\n      <th>12107</th>\n      <td>2020-06-16</td>\n      <td>96% Approval Rating in the Republican Party. T...</td>\n      <td>Trump</td>\n      <td>-1</td>\n    </tr>\n    <tr>\n      <th>12108</th>\n      <td>2020-06-17</td>\n      <td>Joe Biden was a TOTAL FAILURE in Government. H...</td>\n      <td>Trump</td>\n      <td>-1</td>\n    </tr>\n    <tr>\n      <th>12109</th>\n      <td>2020-06-17</td>\n      <td>Will be interviewed on   tonight at 9:00   Enjoy!</td>\n      <td>Trump</td>\n      <td>-1</td>\n    </tr>\n  </tbody>\n</table>\n<p>12110 rows × 4 columns</p>\n</div>"
     },
     "metadata": {},
     "execution_count": 10
    }
   ],
   "source": [
    "data = pd.read_excel('../Adatok/non_cdj.xlsx', header=0, index_col=0)\n",
    "data"
   ]
  },
  {
   "source": [
    "Szétbontom train és test halmazokra"
   ],
   "cell_type": "markdown",
   "metadata": {}
  },
  {
   "cell_type": "code",
   "execution_count": 11,
   "metadata": {},
   "outputs": [],
   "source": [
    "from sklearn.model_selection import train_test_split\n",
    "\n",
    "\n",
    "documents = data['text'].values\n",
    "labels = data['label'].values\n",
    "\n",
    "documents_train, documents_test, y_train, y_test = train_test_split(\n",
    "        documents, labels, test_size=0.25, random_state=1000)"
   ]
  },
  {
   "source": [
    "Az sklearn saját vectorizer könyvtárát fogom használni ahhoz, hogy a tweeteket vektorokká alakítsam, ezzel előállítva a tényleges x_train és x_test halmazokat, amikkel már lehet dolgozni."
   ],
   "cell_type": "markdown",
   "metadata": {}
  },
  {
   "cell_type": "code",
   "execution_count": 12,
   "metadata": {},
   "outputs": [
    {
     "output_type": "execute_result",
     "data": {
      "text/plain": [
       "<9082x10890 sparse matrix of type '<class 'numpy.int64'>'\n",
       "\twith 181475 stored elements in Compressed Sparse Row format>"
      ]
     },
     "metadata": {},
     "execution_count": 12
    }
   ],
   "source": [
    "from sklearn.feature_extraction.text import CountVectorizer\n",
    "\n",
    "vertorizer = CountVectorizer()\n",
    "# itt trainelem adok neki \"szókincset\" a train tweetekből\n",
    "vertorizer.fit(documents_train)\n",
    "\n",
    "x_train = vertorizer.transform(documents_train)\n",
    "x_test = vertorizer.transform(documents_test)\n",
    "\n",
    "x_train"
   ]
  },
  {
   "source": [
    "Megkaptuk az első ritka mátrixunkat, ami már rendelkezik szókinccsel.\n",
    "\n",
    "## Itt fogjuk bevezetni az első modellünket, egy logisztikus regresszitót."
   ],
   "cell_type": "markdown",
   "metadata": {}
  },
  {
   "cell_type": "code",
   "execution_count": 13,
   "metadata": {},
   "outputs": [
    {
     "output_type": "stream",
     "name": "stdout",
     "text": [
      "Accuracy: 0.5518494055482166\n"
     ]
    }
   ],
   "source": [
    "from sklearn.linear_model import LogisticRegression\n",
    "\n",
    "classifier = LogisticRegression()\n",
    "classifier.fit(x_train, y_train)\n",
    "score = classifier.score(x_test, y_test)\n",
    "\n",
    "print(\"Accuracy:\", score)"
   ]
  },
  {
   "source": [
    "Ez nem nagyon jó, rápróbálunk másra is, jöhet a random forest."
   ],
   "cell_type": "markdown",
   "metadata": {}
  },
  {
   "cell_type": "code",
   "execution_count": 14,
   "metadata": {},
   "outputs": [
    {
     "output_type": "stream",
     "name": "stdout",
     "text": [
      "Accuracy: 0.5577939233817701\n"
     ]
    }
   ],
   "source": [
    "from sklearn.ensemble import RandomForestClassifier\n",
    "\n",
    "clf = RandomForestClassifier(n_estimators=30, random_state=0)\n",
    "clf.fit(x_train, y_train)\n",
    "\n",
    "score = clf.score(x_test, y_test)\n",
    "print(\"Accuracy:\", score)"
   ]
  },
  {
   "source": [
    "Jobb kissé a helyzet, de még mindig nem az igazi."
   ],
   "cell_type": "markdown",
   "metadata": {}
  }
 ]
}