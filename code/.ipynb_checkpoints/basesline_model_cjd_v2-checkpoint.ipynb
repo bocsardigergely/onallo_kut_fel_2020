{
 "cells": [
  {
   "cell_type": "markdown",
   "metadata": {},
   "source": [
    "# Első modellünk felállítása a már tisztított adatokkal"
   ]
  },
  {
   "cell_type": "code",
   "execution_count": 1,
   "metadata": {},
   "outputs": [],
   "source": [
    "import pandas as pd\n",
    "import sklearn\n"
   ]
  },
  {
   "cell_type": "markdown",
   "metadata": {},
   "source": [
    "Beolvasom a tisztított adatokat"
   ]
  },
  {
   "cell_type": "code",
   "execution_count": 4,
   "metadata": {},
   "outputs": [
    {
     "data": {
      "text/html": [
       "<div>\n",
       "<style scoped>\n",
       "    .dataframe tbody tr th:only-of-type {\n",
       "        vertical-align: middle;\n",
       "    }\n",
       "\n",
       "    .dataframe tbody tr th {\n",
       "        vertical-align: top;\n",
       "    }\n",
       "\n",
       "    .dataframe thead th {\n",
       "        text-align: right;\n",
       "    }\n",
       "</style>\n",
       "<table border=\"1\" class=\"dataframe\">\n",
       "  <thead>\n",
       "    <tr style=\"text-align: right;\">\n",
       "      <th></th>\n",
       "      <th>date</th>\n",
       "      <th>text</th>\n",
       "      <th>label</th>\n",
       "    </tr>\n",
       "  </thead>\n",
       "  <tbody>\n",
       "    <tr>\n",
       "      <th>0</th>\n",
       "      <td>2012-11-05</td>\n",
       "      <td>President Obama tells the story of \"Fired up! ...</td>\n",
       "      <td>1</td>\n",
       "    </tr>\n",
       "    <tr>\n",
       "      <th>1</th>\n",
       "      <td>2012-11-06</td>\n",
       "      <td>Election Day is here! Confirm your polling pla...</td>\n",
       "      <td>1</td>\n",
       "    </tr>\n",
       "    <tr>\n",
       "      <th>2</th>\n",
       "      <td>2012-11-07</td>\n",
       "      <td>Thank you. President Obama in his victory spee...</td>\n",
       "      <td>-1</td>\n",
       "    </tr>\n",
       "    <tr>\n",
       "      <th>3</th>\n",
       "      <td>2012-11-08</td>\n",
       "      <td>The definition of hope is you still believe ev...</td>\n",
       "      <td>-1</td>\n",
       "    </tr>\n",
       "    <tr>\n",
       "      <th>4</th>\n",
       "      <td>2012-11-09</td>\n",
       "      <td>What Bobby Kennedy called the ripples of hope ...</td>\n",
       "      <td>1</td>\n",
       "    </tr>\n",
       "    <tr>\n",
       "      <th>...</th>\n",
       "      <td>...</td>\n",
       "      <td>...</td>\n",
       "      <td>...</td>\n",
       "    </tr>\n",
       "    <tr>\n",
       "      <th>1548</th>\n",
       "      <td>2020-06-11</td>\n",
       "      <td>Our great National Guard Troops who took care ...</td>\n",
       "      <td>-1</td>\n",
       "    </tr>\n",
       "    <tr>\n",
       "      <th>1549</th>\n",
       "      <td>2020-06-12</td>\n",
       "      <td>People have no idea how Fake the Lamestream Me...</td>\n",
       "      <td>-1</td>\n",
       "    </tr>\n",
       "    <tr>\n",
       "      <th>1550</th>\n",
       "      <td>2020-06-15</td>\n",
       "      <td>I’ve done more in less than 4 years than Biden...</td>\n",
       "      <td>1</td>\n",
       "    </tr>\n",
       "    <tr>\n",
       "      <th>1551</th>\n",
       "      <td>2020-06-16</td>\n",
       "      <td>Wow! May retail sales show biggest one-month i...</td>\n",
       "      <td>-1</td>\n",
       "    </tr>\n",
       "    <tr>\n",
       "      <th>1552</th>\n",
       "      <td>2020-06-17</td>\n",
       "      <td>Joe Biden was a TOTAL FAILURE in Government. H...</td>\n",
       "      <td>-1</td>\n",
       "    </tr>\n",
       "  </tbody>\n",
       "</table>\n",
       "<p>1553 rows × 3 columns</p>\n",
       "</div>"
      ],
      "text/plain": [
       "           date                                               text  label\n",
       "0    2012-11-05  President Obama tells the story of \"Fired up! ...      1\n",
       "1    2012-11-06  Election Day is here! Confirm your polling pla...      1\n",
       "2    2012-11-07  Thank you. President Obama in his victory spee...     -1\n",
       "3    2012-11-08  The definition of hope is you still believe ev...     -1\n",
       "4    2012-11-09  What Bobby Kennedy called the ripples of hope ...      1\n",
       "...         ...                                                ...    ...\n",
       "1548 2020-06-11  Our great National Guard Troops who took care ...     -1\n",
       "1549 2020-06-12  People have no idea how Fake the Lamestream Me...     -1\n",
       "1550 2020-06-15  I’ve done more in less than 4 years than Biden...      1\n",
       "1551 2020-06-16  Wow! May retail sales show biggest one-month i...     -1\n",
       "1552 2020-06-17  Joe Biden was a TOTAL FAILURE in Government. H...     -1\n",
       "\n",
       "[1553 rows x 3 columns]"
      ]
     },
     "execution_count": 4,
     "metadata": {},
     "output_type": "execute_result"
    }
   ],
   "source": [
    "data = pd.read_excel('../Adatok/tisztitott_adat.xlsx', header=0, index_col=0)"
   ]
  },
  {
   "cell_type": "markdown",
   "metadata": {},
   "source": [
    "Szétbontom train és test halmazokra"
   ]
  },
  {
   "cell_type": "code",
   "execution_count": 10,
   "metadata": {},
   "outputs": [],
   "source": [
    "from sklearn.model_selection import train_test_split\n",
    "\n",
    "\n",
    "documents = data['text'].values\n",
    "labels = data['label'].values\n",
    "\n",
    "documents_train, documents_test, y_train, y_test = train_test_split(documents, labels, test_size=0.25, random_state=1000)"
   ]
  },
  {
   "cell_type": "markdown",
   "metadata": {},
   "source": [
    "NEM Az sklearn saját vectorizer könyvtárát fogom használni ahhoz, hogy a tweeteket vektorokká alakítsam, ezzel előállítva a tényleges x_train és x_test halmazokat, amikkel már lehet dolgozni."
   ]
  },
  {
   "cell_type": "code",
   "execution_count": 12,
   "metadata": {},
   "outputs": [
    {
     "data": {
      "text/plain": [
       "<1164x10943 sparse matrix of type '<class 'numpy.int64'>'\n",
       "\twith 125983 stored elements in Compressed Sparse Row format>"
      ]
     },
     "execution_count": 12,
     "metadata": {},
     "output_type": "execute_result"
    }
   ],
   "source": [
    "from sklearn.feature_extraction.text import CountVectorizer\n",
    "\n",
    "vertorizer = CountVectorizer()\n",
    "# itt trainelem adok neki \"szókincset\" a train tweetekből\n",
    "vertorizer.fit(documents_train)\n",
    "\n",
    "x_train = vertorizer.transform(documents_train)\n",
    "x_test = vertorizer.transform(documents_test)\n",
    "\n",
    "x_train"
   ]
  },
  {
   "cell_type": "markdown",
   "metadata": {},
   "source": [
    "Megkaptuk az első ritka mátrixunkat, ami már rendelkezik szókinccsel.\n",
    "\n",
    "## Itt fogjuk bevezetni az első modellünket, egy logisztikus regresszitót."
   ]
  },
  {
   "cell_type": "code",
   "execution_count": 13,
   "metadata": {},
   "outputs": [
    {
     "name": "stdout",
     "output_type": "stream",
     "text": [
      "Accuracy: 0.4832904884318766\n"
     ]
    }
   ],
   "source": [
    "from sklearn.linear_model import LogisticRegression\n",
    "\n",
    "classifier = LogisticRegression()\n",
    "classifier.fit(x_train, y_train)\n",
    "score = classifier.score(x_test, y_test)\n",
    "\n",
    "print(\"Accuracy:\", score)"
   ]
  },
  {
   "cell_type": "markdown",
   "metadata": {},
   "source": [
    "Ez nem nagyon jó, rápróbálunk másra is, jöhet a random forest."
   ]
  },
  {
   "cell_type": "code",
   "execution_count": 15,
   "metadata": {},
   "outputs": [
    {
     "name": "stdout",
     "output_type": "stream",
     "text": [
      "Accuracy: 0.5501285347043702\n"
     ]
    }
   ],
   "source": [
    "from sklearn.ensemble import RandomForestClassifier\n",
    "\n",
    "clf = RandomForestClassifier(n_estimators=30, random_state=0)\n",
    "clf.fit(x_train, y_train)\n",
    "\n",
    "score = clf.score(x_test, y_test)\n",
    "print(\"Accuracy:\", score)"
   ]
  },
  {
   "cell_type": "markdown",
   "metadata": {},
   "source": [
    "Jobb kissé a helyzet, de még mindig nem az igazi."
   ]
  }
 ],
 "metadata": {
  "kernelspec": {
   "display_name": "Python 3",
   "language": "python",
   "name": "python3"
  },
  "language_info": {
   "codemirror_mode": {
    "name": "ipython",
    "version": 3
   },
   "file_extension": ".py",
   "mimetype": "text/x-python",
   "name": "python",
   "nbconvert_exporter": "python",
   "pygments_lexer": "ipython3",
   "version": "3.7.4"
  }
 },
 "nbformat": 4,
 "nbformat_minor": 4
}
