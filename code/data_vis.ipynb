{
 "cells": [
  {
   "cell_type": "code",
   "execution_count": 29,
   "metadata": {},
   "outputs": [],
   "source": [
    "import pandas as pd\n",
    "import re\n",
    "import matplotlib.pyplot as plt\n",
    "import numpy as np\n",
    "\n",
    "data = pd.read_excel('../Adatok/tisztitott_adat.xlsx', index_col=0)\n",
    "data_bull = data[data.label ==  1]\n",
    "data_bear = data[data.label == -1]\n",
    "\n",
    "value = lambda a : a[1]"
   ]
  },
  {
   "cell_type": "markdown",
   "metadata": {},
   "source": [
    "szófelhő az 1 tweetekre"
   ]
  },
  {
   "cell_type": "code",
   "execution_count": null,
   "metadata": {},
   "outputs": [],
   "source": []
  },
  {
   "cell_type": "markdown",
   "metadata": {},
   "source": [
    "szófelhő az -1 tweetekre"
   ]
  },
  {
   "cell_type": "code",
   "execution_count": null,
   "metadata": {},
   "outputs": [],
   "source": []
  },
  {
   "cell_type": "markdown",
   "metadata": {},
   "source": [
    "## Gyakori hashtagek növekvő árfolyam esetén"
   ]
  },
  {
   "cell_type": "code",
   "execution_count": null,
   "metadata": {},
   "outputs": [],
   "source": [
    "data_bull_hash = []\n",
    "for i in range(len(data_bull)):\n",
    "        temp_list = re.findall('\\#\\w+',data_bull['text'].iloc[i])\n",
    "        for j in temp_list:\n",
    "            data_bull_hash.append(j)\n",
    "data_bull_hash_dict = {}\n",
    "for i in data_bull_hash:\n",
    "    if i in data_bull_hash_dict:\n",
    "        data_bull_hash_dict[i] +=1\n",
    "    else:\n",
    "        data_bull_hash_dict[i] = 1\n",
    "data_bull_hash_sorted = sorted(((k, v) for k, v in data_bull_hash_dict.items()), key = value, reverse= True)\n",
    "\n",
    "data_bull_hash_sorted = list(filter(lambda x: x[1] >2 , data_bull_hash_sorted))\n",
    "data_bull_hash_sorted = np.transpose(data_bull_hash_sorted)\n",
    "\n",
    "plt.scatter(data_bull_hash_sorted[0],data_bull_hash_sorted[1])\n",
    "plt.show()"
   ]
  },
  {
   "cell_type": "markdown",
   "metadata": {},
   "source": [
    "## Gyakori hashtagek csökkenő árfolyam esetén"
   ]
  },
  {
   "cell_type": "code",
   "execution_count": 49,
   "metadata": {},
   "outputs": [
    {
     "data": {
      "image/png": "[encoded data removed]",
      "text/plain": [
       "<Figure size 432x288 with 1 Axes>"
      ]
     },
     "metadata": {
      "needs_background": "light"
     },
     "output_type": "display_data"
    }
   ],
   "source": [
    "data_bear_hash = []\n",
    "for i in range(len(data_bear)):\n",
    "        temp_list = re.findall('\\#\\w+',data_bear['text'].iloc[i])\n",
    "        for j in temp_list:\n",
    "            data_bear_hash.append(j)\n",
    "data_bear_hash_dict = {}\n",
    "for i in data_bear_hash:\n",
    "    if i in data_bear_hash_dict:\n",
    "        data_bear_hash_dict[i] +=1\n",
    "    else:\n",
    "        data_bear_hash_dict[i] = 1\n",
    "data_bear_hash_sorted = sorted(((k, v) for k, v in data_bear_hash_dict.items()), key = value, reverse= True)\n",
    "\n",
    "data_bear_hash_sorted = list(filter(lambda x: x[1] >2 , data_bear_hash_sorted))\n",
    "data_bear_hash_sorted = np.transpose(data_bear_hash_sorted)\n",
    "\n",
    "plt.scatter(data_bear_hash_sorted[0],data_bear_hash_sorted[1])\n",
    "plt.show()"
   ]
  },
  {
   "cell_type": "code",
   "execution_count": 48,
   "metadata": {},
   "outputs": [
    {
     "data": {
      "text/plain": [
       "array([['#actonclimate', '#doyourjob', '#getcovered', '#obamacare',\n",
       "        '#raisethewage', '#abetterbargain', '#opportunityforall',\n",
       "        '#immigrationreform', '#immigration', '#collegeopportunity',\n",
       "        '#enoughalready', '#rebuildamerica', '#actonreform',\n",
       "        '#actionsummit', '#thisiswhy', '#getcoverednow', '#endthisnow',\n",
       "        '#immigrationaction', '#loveislove', '#sotu', '#leadonleave',\n",
       "        '#ofafallsummit', '#scotus', '#demandaction', '#acaworks',\n",
       "        '#itsonus', '#wedemandavote', '#standwithourfuture',\n",
       "        '#lastcall2014', '#climate', '#whatwillittake', '#renewui',\n",
       "        '#irandeal', '#ofaclimate', '#justvote', '#tbt', '#nowisthetime',\n",
       "        '#standwithwomen', '#cgi2013', '#actonjobs', '#whatrepealmeans',\n",
       "        '#americorps20', '#betterwithobamacare', '#leadontrade',\n",
       "        '#stopgunviolence', '#timetoact', '#dosomething', '#with1010',\n",
       "        '#imarch', '#sequester', '#dontdoublemyrate', '#timetoenroll',\n",
       "        '#cybersecurity', '#my2k', '#americanstory',\n",
       "        '#womensequalityday', '#gettalking', '#healthy2015',\n",
       "        '#44turns54', '#unitedonclimate', '#1', '#madeinamerica',\n",
       "        '#notbackingdown', '#sbw2013', '#enda', '#teapartyshutdown',\n",
       "        '#peopleoverpolitics', '#wad2013', '#costofinaction',\n",
       "        '#100challenge', '#mathnotmyth', '#degreesnotdebt',\n",
       "        '#workplacefairness', '#connected', '#joiningforces',\n",
       "        '#fixovertime', '#tpp', '#marriageequality', '#marchmadness',\n",
       "        '#ff', '#newtown', '#takeittothehouse', '#actionaugust',\n",
       "        '#shutdown', '#withabetterwage', '#investinus',\n",
       "        '#betterbroadband', '#letgirlslearn', '#switchtoclean',\n",
       "        '#thankateacher', '#fixthesystem', '#2020'],\n",
       "       ['119', '59', '55', '54', '51', '40', '32', '30', '27', '24',\n",
       "        '21', '20', '19', '19', '18', '16', '15', '15', '14', '14', '14',\n",
       "        '14', '14', '13', '12', '12', '11', '11', '11', '10', '10', '10',\n",
       "        '10', '9', '9', '9', '8', '8', '8', '8', '8', '8', '8', '8', '8',\n",
       "        '7', '7', '7', '6', '6', '6', '6', '6', '5', '5', '5', '5', '5',\n",
       "        '5', '5', '5', '4', '4', '4', '4', '4', '4', '4', '4', '4', '4',\n",
       "        '4', '4', '4', '4', '4', '4', '3', '3', '3', '3', '3', '3', '3',\n",
       "        '3', '3', '3', '3', '3', '3', '3', '3']], dtype='<U20')"
      ]
     },
     "execution_count": 48,
     "metadata": {},
     "output_type": "execute_result"
    }
   ],
   "source": [
    "#test\n",
    "data_bear_hash_sorted"
   ]
  }
 ],
 "metadata": {
  "kernelspec": {
   "display_name": "Python 3",
   "language": "python",
   "name": "python3"
  },
  "language_info": {
   "codemirror_mode": {
    "name": "ipython",
    "version": 3
   },
   "file_extension": ".py",
   "mimetype": "text/x-python",
   "name": "python",
   "nbconvert_exporter": "python",
   "pygments_lexer": "ipython3",
   "version": "3.7.4"
  }
 },
 "nbformat": 4,
 "nbformat_minor": 4
}
