{
 "cells": [
  {
   "cell_type": "markdown",
   "metadata": {},
   "source": [
    "# 2020 Önálló kutatási feladat"
   ]
  },
  {
   "cell_type": "code",
   "execution_count": 2,
   "metadata": {},
   "outputs": [],
   "source": [
    "import pandas as pd\n",
    "import re"
   ]
  },
  {
   "cell_type": "markdown",
   "metadata": {},
   "source": [
    "## Stock data preprocessing"
   ]
  },
  {
   "cell_type": "code",
   "execution_count": 3,
   "metadata": {},
   "outputs": [
    {
     "output_type": "execute_result",
     "data": {
      "text/plain": [
       "            Date         Open        Close     Change\n",
       "0     2000-01-03  1469.250000  1455.219971 -14.030029\n",
       "1     2000-01-04  1455.219971  1399.420044 -55.799927\n",
       "2     2000-01-05  1399.420044  1402.109985   2.689941\n",
       "3     2000-01-06  1402.109985  1403.449951   1.339966\n",
       "4     2000-01-07  1403.449951  1441.469971  38.020020\n",
       "...          ...          ...          ...        ...\n",
       "5164  2020-07-14  3141.110107  3197.520020  56.409913\n",
       "5165  2020-07-15  3225.979980  3226.560059   0.580079\n",
       "5166  2020-07-16  3208.360107  3215.570068   7.209961\n",
       "5167  2020-07-17  3224.209961  3224.729980   0.520019\n",
       "5168  2020-07-20  3224.290039  3251.840088  27.550049\n",
       "\n",
       "[5169 rows x 4 columns]"
      ],
      "text/html": "<div>\n<style scoped>\n    .dataframe tbody tr th:only-of-type {\n        vertical-align: middle;\n    }\n\n    .dataframe tbody tr th {\n        vertical-align: top;\n    }\n\n    .dataframe thead th {\n        text-align: right;\n    }\n</style>\n<table border=\"1\" class=\"dataframe\">\n  <thead>\n    <tr style=\"text-align: right;\">\n      <th></th>\n      <th>Date</th>\n      <th>Open</th>\n      <th>Close</th>\n      <th>Change</th>\n    </tr>\n  </thead>\n  <tbody>\n    <tr>\n      <th>0</th>\n      <td>2000-01-03</td>\n      <td>1469.250000</td>\n      <td>1455.219971</td>\n      <td>-14.030029</td>\n    </tr>\n    <tr>\n      <th>1</th>\n      <td>2000-01-04</td>\n      <td>1455.219971</td>\n      <td>1399.420044</td>\n      <td>-55.799927</td>\n    </tr>\n    <tr>\n      <th>2</th>\n      <td>2000-01-05</td>\n      <td>1399.420044</td>\n      <td>1402.109985</td>\n      <td>2.689941</td>\n    </tr>\n    <tr>\n      <th>3</th>\n      <td>2000-01-06</td>\n      <td>1402.109985</td>\n      <td>1403.449951</td>\n      <td>1.339966</td>\n    </tr>\n    <tr>\n      <th>4</th>\n      <td>2000-01-07</td>\n      <td>1403.449951</td>\n      <td>1441.469971</td>\n      <td>38.020020</td>\n    </tr>\n    <tr>\n      <th>...</th>\n      <td>...</td>\n      <td>...</td>\n      <td>...</td>\n      <td>...</td>\n    </tr>\n    <tr>\n      <th>5164</th>\n      <td>2020-07-14</td>\n      <td>3141.110107</td>\n      <td>3197.520020</td>\n      <td>56.409913</td>\n    </tr>\n    <tr>\n      <th>5165</th>\n      <td>2020-07-15</td>\n      <td>3225.979980</td>\n      <td>3226.560059</td>\n      <td>0.580079</td>\n    </tr>\n    <tr>\n      <th>5166</th>\n      <td>2020-07-16</td>\n      <td>3208.360107</td>\n      <td>3215.570068</td>\n      <td>7.209961</td>\n    </tr>\n    <tr>\n      <th>5167</th>\n      <td>2020-07-17</td>\n      <td>3224.209961</td>\n      <td>3224.729980</td>\n      <td>0.520019</td>\n    </tr>\n    <tr>\n      <th>5168</th>\n      <td>2020-07-20</td>\n      <td>3224.290039</td>\n      <td>3251.840088</td>\n      <td>27.550049</td>\n    </tr>\n  </tbody>\n</table>\n<p>5169 rows × 4 columns</p>\n</div>"
     },
     "metadata": {},
     "execution_count": 3
    }
   ],
   "source": [
    "stock = pd.read_csv('..\\Adatok\\stock-data\\SP500.csv')\n",
    "\n",
    "stock = stock.drop(columns=['High','Low','Adj Close','Volume'])\n",
    "stock['Date'] = pd.to_datetime(stock['Date']).dt.date\n",
    "\n",
    "def Change(row):\n",
    "    return (row['Close']-row['Open'])\n",
    "\n",
    "stock['Change'] = stock.apply (lambda row: Change(row), axis=1)\n",
    "\n",
    "def label(row, threshold): \n",
    "    if abs(row['Change']) > threshold:\n",
    "        if row['Change'] > 0:\n",
    "            return int(1)\n",
    "        else:\n",
    "            return int(-1)\n",
    "    else:\n",
    "        return int(0)\n",
    "\n",
    "\n",
    "def generate_data(sensitivity):\n",
    "    stock['label'] = stock.apply (lambda row: label(row, sensitivity), axis=1)\n",
    "    stock_ready = stock.drop(columns=['Open', 'Close', 'Change'])\n",
    "    stock_ready = stock_ready[stock_ready.label != 0]\n",
    "    return stock_ready \n",
    "\n",
    "stock"
   ]
  },
  {
   "cell_type": "markdown",
   "metadata": {},
   "source": [
    "### Itt tudjuk a *generate_data* függvény paraméterével állítani, hogy milyen mértékű változást veszünk figyelembe."
   ]
  },
  {
   "cell_type": "code",
   "execution_count": 4,
   "metadata": {},
   "outputs": [
    {
     "output_type": "execute_result",
     "data": {
      "text/plain": [
       "            Date  label\n",
       "0     2000-01-03     -1\n",
       "1     2000-01-04     -1\n",
       "2     2000-01-05      1\n",
       "4     2000-01-07      1\n",
       "5     2000-01-10      1\n",
       "...          ...    ...\n",
       "5162  2020-07-10      1\n",
       "5163  2020-07-13     -1\n",
       "5164  2020-07-14      1\n",
       "5166  2020-07-16      1\n",
       "5168  2020-07-20      1\n",
       "\n",
       "[4316 rows x 2 columns]"
      ],
      "text/html": "<div>\n<style scoped>\n    .dataframe tbody tr th:only-of-type {\n        vertical-align: middle;\n    }\n\n    .dataframe tbody tr th {\n        vertical-align: top;\n    }\n\n    .dataframe thead th {\n        text-align: right;\n    }\n</style>\n<table border=\"1\" class=\"dataframe\">\n  <thead>\n    <tr style=\"text-align: right;\">\n      <th></th>\n      <th>Date</th>\n      <th>label</th>\n    </tr>\n  </thead>\n  <tbody>\n    <tr>\n      <th>0</th>\n      <td>2000-01-03</td>\n      <td>-1</td>\n    </tr>\n    <tr>\n      <th>1</th>\n      <td>2000-01-04</td>\n      <td>-1</td>\n    </tr>\n    <tr>\n      <th>2</th>\n      <td>2000-01-05</td>\n      <td>1</td>\n    </tr>\n    <tr>\n      <th>4</th>\n      <td>2000-01-07</td>\n      <td>1</td>\n    </tr>\n    <tr>\n      <th>5</th>\n      <td>2000-01-10</td>\n      <td>1</td>\n    </tr>\n    <tr>\n      <th>...</th>\n      <td>...</td>\n      <td>...</td>\n    </tr>\n    <tr>\n      <th>5162</th>\n      <td>2020-07-10</td>\n      <td>1</td>\n    </tr>\n    <tr>\n      <th>5163</th>\n      <td>2020-07-13</td>\n      <td>-1</td>\n    </tr>\n    <tr>\n      <th>5164</th>\n      <td>2020-07-14</td>\n      <td>1</td>\n    </tr>\n    <tr>\n      <th>5166</th>\n      <td>2020-07-16</td>\n      <td>1</td>\n    </tr>\n    <tr>\n      <th>5168</th>\n      <td>2020-07-20</td>\n      <td>1</td>\n    </tr>\n  </tbody>\n</table>\n<p>4316 rows × 2 columns</p>\n</div>"
     },
     "metadata": {},
     "execution_count": 4
    }
   ],
   "source": [
    "stock_labeled = generate_data(2)\n",
    "stock_labeled"
   ]
  },
  {
   "cell_type": "markdown",
   "metadata": {},
   "source": [
    "## Twitteres adatok preprocessing"
   ]
  },
  {
   "cell_type": "code",
   "execution_count": 5,
   "metadata": {},
   "outputs": [
    {
     "output_type": "execute_result",
     "data": {
      "text/plain": [
       "            Date                                         Tweet-text President\n",
       "0     2012-11-05  President Obama tells the story of \"Fired up! ...     Obama\n",
       "1     2012-11-06  Election Day is here! Confirm your polling pla...     Obama\n",
       "2     2012-11-06  It’s Election Day! This is your last chance to...     Obama\n",
       "3     2012-11-06  At the final rally of his final campaign last ...     Obama\n",
       "4     2012-11-06  25 reasons that 25 people are voting for Presi...     Obama\n",
       "...          ...                                                ...       ...\n",
       "6673  2016-11-04  Let's keep working to keep our economy on a be...     Obama\n",
       "6674  2016-11-05  In the weekly address President Obama discusse...     Obama\n",
       "6675  2017-01-10  Tonight President Obama reflects on eight year...     Obama\n",
       "6676  2017-01-20  Hi everybody! Back to the original handle. Is ...     Obama\n",
       "6677  2017-01-20  In the meantime I want to hear what you're thi...     Obama\n",
       "\n",
       "[6678 rows x 3 columns]"
      ],
      "text/html": "<div>\n<style scoped>\n    .dataframe tbody tr th:only-of-type {\n        vertical-align: middle;\n    }\n\n    .dataframe tbody tr th {\n        vertical-align: top;\n    }\n\n    .dataframe thead th {\n        text-align: right;\n    }\n</style>\n<table border=\"1\" class=\"dataframe\">\n  <thead>\n    <tr style=\"text-align: right;\">\n      <th></th>\n      <th>Date</th>\n      <th>Tweet-text</th>\n      <th>President</th>\n    </tr>\n  </thead>\n  <tbody>\n    <tr>\n      <th>0</th>\n      <td>2012-11-05</td>\n      <td>President Obama tells the story of \"Fired up! ...</td>\n      <td>Obama</td>\n    </tr>\n    <tr>\n      <th>1</th>\n      <td>2012-11-06</td>\n      <td>Election Day is here! Confirm your polling pla...</td>\n      <td>Obama</td>\n    </tr>\n    <tr>\n      <th>2</th>\n      <td>2012-11-06</td>\n      <td>It’s Election Day! This is your last chance to...</td>\n      <td>Obama</td>\n    </tr>\n    <tr>\n      <th>3</th>\n      <td>2012-11-06</td>\n      <td>At the final rally of his final campaign last ...</td>\n      <td>Obama</td>\n    </tr>\n    <tr>\n      <th>4</th>\n      <td>2012-11-06</td>\n      <td>25 reasons that 25 people are voting for Presi...</td>\n      <td>Obama</td>\n    </tr>\n    <tr>\n      <th>...</th>\n      <td>...</td>\n      <td>...</td>\n      <td>...</td>\n    </tr>\n    <tr>\n      <th>6673</th>\n      <td>2016-11-04</td>\n      <td>Let's keep working to keep our economy on a be...</td>\n      <td>Obama</td>\n    </tr>\n    <tr>\n      <th>6674</th>\n      <td>2016-11-05</td>\n      <td>In the weekly address President Obama discusse...</td>\n      <td>Obama</td>\n    </tr>\n    <tr>\n      <th>6675</th>\n      <td>2017-01-10</td>\n      <td>Tonight President Obama reflects on eight year...</td>\n      <td>Obama</td>\n    </tr>\n    <tr>\n      <th>6676</th>\n      <td>2017-01-20</td>\n      <td>Hi everybody! Back to the original handle. Is ...</td>\n      <td>Obama</td>\n    </tr>\n    <tr>\n      <th>6677</th>\n      <td>2017-01-20</td>\n      <td>In the meantime I want to hear what you're thi...</td>\n      <td>Obama</td>\n    </tr>\n  </tbody>\n</table>\n<p>6678 rows × 3 columns</p>\n</div>"
     },
     "metadata": {},
     "execution_count": 5
    }
   ],
   "source": [
    "#Obama\n",
    "tweets_dem = pd.read_csv('..\\Adatok\\obama\\obama-tweets.csv')\n",
    "tweets_dem = tweets_dem.drop(columns=['Username', 'Tweet Link', 'Retweets', 'Likes', 'TweetImageUrl', 'Image'])\n",
    "tweets_dem['Date'] = pd.to_datetime(tweets_dem['Date'], format='%Y/%m/%d_%H:%M')\n",
    "tweets_dem['Date'] = tweets_dem['Date'].dt.date\n",
    "tweets_dem = tweets_dem[tweets_dem.Date < pd.to_datetime('2017-01-21')]\n",
    "tweets_dem= tweets_dem.sort_index(ascending=False, axis=0)\n",
    "tweets_dem.reset_index(drop=True,inplace=True)\n",
    "tweets_dem.insert(2, \"President\", \"Obama\", allow_duplicates=False) #rájöttem, hogy ez redundáns, mert a dátum alapján tudjuk\n",
    "\n",
    "tweets_dem"
   ]
  },
  {
   "cell_type": "code",
   "execution_count": 6,
   "metadata": {},
   "outputs": [
    {
     "output_type": "execute_result",
     "data": {
      "text/plain": [
       "             Date                                         Tweet-text President\n",
       "0      2017-01-21  A fantastic day and evening in Washington D.C....     Trump\n",
       "1      2017-01-22  Had a great meeting at CIA Headquarters yester...     Trump\n",
       "2      2017-01-22  Watched protests yesterday but was under the i...     Trump\n",
       "3      2017-01-22  Wow, television ratings just out: 31 million p...     Trump\n",
       "4      2017-01-22  Peaceful protests are a hallmark of our democr...     Trump\n",
       "...           ...                                                ...       ...\n",
       "12086  2020-06-17  Joe Biden was a TOTAL FAILURE in Government. H...     Trump\n",
       "12087  2020-06-17  Will be interviewed on @ seanhannity tonight a...     Trump\n",
       "12088  2020-06-17                         pic.twitter.com/3lm1spbU8X     Trump\n",
       "12089  2020-06-17                         pic.twitter.com/vpCE5MadUz     Trump\n",
       "12090  2020-06-17                         pic.twitter.com/VLlc0BHW41     Trump\n",
       "\n",
       "[12091 rows x 3 columns]"
      ],
      "text/html": "<div>\n<style scoped>\n    .dataframe tbody tr th:only-of-type {\n        vertical-align: middle;\n    }\n\n    .dataframe tbody tr th {\n        vertical-align: top;\n    }\n\n    .dataframe thead th {\n        text-align: right;\n    }\n</style>\n<table border=\"1\" class=\"dataframe\">\n  <thead>\n    <tr style=\"text-align: right;\">\n      <th></th>\n      <th>Date</th>\n      <th>Tweet-text</th>\n      <th>President</th>\n    </tr>\n  </thead>\n  <tbody>\n    <tr>\n      <th>0</th>\n      <td>2017-01-21</td>\n      <td>A fantastic day and evening in Washington D.C....</td>\n      <td>Trump</td>\n    </tr>\n    <tr>\n      <th>1</th>\n      <td>2017-01-22</td>\n      <td>Had a great meeting at CIA Headquarters yester...</td>\n      <td>Trump</td>\n    </tr>\n    <tr>\n      <th>2</th>\n      <td>2017-01-22</td>\n      <td>Watched protests yesterday but was under the i...</td>\n      <td>Trump</td>\n    </tr>\n    <tr>\n      <th>3</th>\n      <td>2017-01-22</td>\n      <td>Wow, television ratings just out: 31 million p...</td>\n      <td>Trump</td>\n    </tr>\n    <tr>\n      <th>4</th>\n      <td>2017-01-22</td>\n      <td>Peaceful protests are a hallmark of our democr...</td>\n      <td>Trump</td>\n    </tr>\n    <tr>\n      <th>...</th>\n      <td>...</td>\n      <td>...</td>\n      <td>...</td>\n    </tr>\n    <tr>\n      <th>12086</th>\n      <td>2020-06-17</td>\n      <td>Joe Biden was a TOTAL FAILURE in Government. H...</td>\n      <td>Trump</td>\n    </tr>\n    <tr>\n      <th>12087</th>\n      <td>2020-06-17</td>\n      <td>Will be interviewed on @ seanhannity tonight a...</td>\n      <td>Trump</td>\n    </tr>\n    <tr>\n      <th>12088</th>\n      <td>2020-06-17</td>\n      <td>pic.twitter.com/3lm1spbU8X</td>\n      <td>Trump</td>\n    </tr>\n    <tr>\n      <th>12089</th>\n      <td>2020-06-17</td>\n      <td>pic.twitter.com/vpCE5MadUz</td>\n      <td>Trump</td>\n    </tr>\n    <tr>\n      <th>12090</th>\n      <td>2020-06-17</td>\n      <td>pic.twitter.com/VLlc0BHW41</td>\n      <td>Trump</td>\n    </tr>\n  </tbody>\n</table>\n<p>12091 rows × 3 columns</p>\n</div>"
     },
     "metadata": {},
     "execution_count": 6
    }
   ],
   "source": [
    "#Trump\n",
    "tweets_gop = pd.read_csv('../Adatok/trump/trump-tweets.csv')\n",
    "tweets_gop = tweets_gop.drop(columns=['id', 'link', 'retweets', 'favorites', 'mentions', 'hashtags'])\n",
    "tweets_gop['date'] = pd.to_datetime(tweets_gop['date'])\n",
    "tweets_gop['date'] = tweets_gop['date'].dt.date\n",
    "tweets_gop = tweets_gop[['date', 'content']]\n",
    "tweets_gop = tweets_gop[ pd.to_datetime('2017-01-21') <= tweets_gop.date]\n",
    "tweets_gop.reset_index(drop=True,inplace=True)\n",
    "tweets_gop.columns = [\"Date\",\"Tweet-text\"]\n",
    "tweets_gop.insert(2, \"President\", \"Trump\", allow_duplicates=False) #rájöttem, hogy ez redundáns, mert a dátum alapján tudjuk\n",
    "\n",
    "tweets_gop"
   ]
  },
  {
   "cell_type": "markdown",
   "metadata": {},
   "source": [
    "## Táblák joinolása"
   ]
  },
  {
   "cell_type": "code",
   "execution_count": 7,
   "metadata": {},
   "outputs": [
    {
     "output_type": "execute_result",
     "data": {
      "text/plain": [
       "             date                                               text president\n",
       "0      2012-11-05  President Obama tells the story of \"Fired up! ...     Obama\n",
       "1      2012-11-06  Election Day is here! Confirm your polling pla...     Obama\n",
       "2      2012-11-06  It’s Election Day! This is your last chance to...     Obama\n",
       "3      2012-11-06  At the final rally of his final campaign last ...     Obama\n",
       "4      2012-11-06  25 reasons that 25 people are voting for Presi...     Obama\n",
       "...           ...                                                ...       ...\n",
       "18764  2020-06-17  Joe Biden was a TOTAL FAILURE in Government. H...     Trump\n",
       "18765  2020-06-17  Will be interviewed on @ seanhannity tonight a...     Trump\n",
       "18766  2020-06-17                         pic.twitter.com/3lm1spbU8X     Trump\n",
       "18767  2020-06-17                         pic.twitter.com/vpCE5MadUz     Trump\n",
       "18768  2020-06-17                         pic.twitter.com/VLlc0BHW41     Trump\n",
       "\n",
       "[18769 rows x 3 columns]"
      ],
      "text/html": "<div>\n<style scoped>\n    .dataframe tbody tr th:only-of-type {\n        vertical-align: middle;\n    }\n\n    .dataframe tbody tr th {\n        vertical-align: top;\n    }\n\n    .dataframe thead th {\n        text-align: right;\n    }\n</style>\n<table border=\"1\" class=\"dataframe\">\n  <thead>\n    <tr style=\"text-align: right;\">\n      <th></th>\n      <th>date</th>\n      <th>text</th>\n      <th>president</th>\n    </tr>\n  </thead>\n  <tbody>\n    <tr>\n      <th>0</th>\n      <td>2012-11-05</td>\n      <td>President Obama tells the story of \"Fired up! ...</td>\n      <td>Obama</td>\n    </tr>\n    <tr>\n      <th>1</th>\n      <td>2012-11-06</td>\n      <td>Election Day is here! Confirm your polling pla...</td>\n      <td>Obama</td>\n    </tr>\n    <tr>\n      <th>2</th>\n      <td>2012-11-06</td>\n      <td>It’s Election Day! This is your last chance to...</td>\n      <td>Obama</td>\n    </tr>\n    <tr>\n      <th>3</th>\n      <td>2012-11-06</td>\n      <td>At the final rally of his final campaign last ...</td>\n      <td>Obama</td>\n    </tr>\n    <tr>\n      <th>4</th>\n      <td>2012-11-06</td>\n      <td>25 reasons that 25 people are voting for Presi...</td>\n      <td>Obama</td>\n    </tr>\n    <tr>\n      <th>...</th>\n      <td>...</td>\n      <td>...</td>\n      <td>...</td>\n    </tr>\n    <tr>\n      <th>18764</th>\n      <td>2020-06-17</td>\n      <td>Joe Biden was a TOTAL FAILURE in Government. H...</td>\n      <td>Trump</td>\n    </tr>\n    <tr>\n      <th>18765</th>\n      <td>2020-06-17</td>\n      <td>Will be interviewed on @ seanhannity tonight a...</td>\n      <td>Trump</td>\n    </tr>\n    <tr>\n      <th>18766</th>\n      <td>2020-06-17</td>\n      <td>pic.twitter.com/3lm1spbU8X</td>\n      <td>Trump</td>\n    </tr>\n    <tr>\n      <th>18767</th>\n      <td>2020-06-17</td>\n      <td>pic.twitter.com/vpCE5MadUz</td>\n      <td>Trump</td>\n    </tr>\n    <tr>\n      <th>18768</th>\n      <td>2020-06-17</td>\n      <td>pic.twitter.com/VLlc0BHW41</td>\n      <td>Trump</td>\n    </tr>\n  </tbody>\n</table>\n<p>18769 rows × 3 columns</p>\n</div>"
     },
     "metadata": {},
     "execution_count": 7
    }
   ],
   "source": [
    "joined_data = pd.concat([tweets_dem,tweets_gop],ignore_index=True)\n",
    "#joined_data = joined_data.merge(stock_labeled, how='inner', left_on='Date', right_on='Date') --> fölösleges itt mergelni, ha később úgyis összevonunk még sorokat\n",
    "joined_data.columns = ['date','text','president']\n",
    "joined_data"
   ]
  },
  {
   "cell_type": "markdown",
   "metadata": {},
   "source": [
    "## Adatok tisztítása"
   ]
  },
  {
   "cell_type": "code",
   "execution_count": 8,
   "metadata": {},
   "outputs": [
    {
     "output_type": "execute_result",
     "data": {
      "text/plain": [
       "             date                                               text president\n",
       "0      2012-11-05  President Obama tells the story of \"Fired up! ...     Obama\n",
       "1      2012-11-06  Election Day is here! Confirm your polling pla...     Obama\n",
       "2      2012-11-06  It’s Election Day! This is your last chance to...     Obama\n",
       "3      2012-11-06  At the final rally of his final campaign last ...     Obama\n",
       "4      2012-11-06  25 reasons that 25 people are voting for Presi...     Obama\n",
       "...           ...                                                ...       ...\n",
       "18335  2020-06-16                                          True!   …     Trump\n",
       "18336  2020-06-16  A GREAT woman. Her son is looking down from he...     Trump\n",
       "18337  2020-06-16  96% Approval Rating in the Republican Party. T...     Trump\n",
       "18338  2020-06-17  Joe Biden was a TOTAL FAILURE in Government. H...     Trump\n",
       "18339  2020-06-17  Will be interviewed on   tonight at 9:00   Enjoy!     Trump\n",
       "\n",
       "[18340 rows x 3 columns]"
      ],
      "text/html": "<div>\n<style scoped>\n    .dataframe tbody tr th:only-of-type {\n        vertical-align: middle;\n    }\n\n    .dataframe tbody tr th {\n        vertical-align: top;\n    }\n\n    .dataframe thead th {\n        text-align: right;\n    }\n</style>\n<table border=\"1\" class=\"dataframe\">\n  <thead>\n    <tr style=\"text-align: right;\">\n      <th></th>\n      <th>date</th>\n      <th>text</th>\n      <th>president</th>\n    </tr>\n  </thead>\n  <tbody>\n    <tr>\n      <th>0</th>\n      <td>2012-11-05</td>\n      <td>President Obama tells the story of \"Fired up! ...</td>\n      <td>Obama</td>\n    </tr>\n    <tr>\n      <th>1</th>\n      <td>2012-11-06</td>\n      <td>Election Day is here! Confirm your polling pla...</td>\n      <td>Obama</td>\n    </tr>\n    <tr>\n      <th>2</th>\n      <td>2012-11-06</td>\n      <td>It’s Election Day! This is your last chance to...</td>\n      <td>Obama</td>\n    </tr>\n    <tr>\n      <th>3</th>\n      <td>2012-11-06</td>\n      <td>At the final rally of his final campaign last ...</td>\n      <td>Obama</td>\n    </tr>\n    <tr>\n      <th>4</th>\n      <td>2012-11-06</td>\n      <td>25 reasons that 25 people are voting for Presi...</td>\n      <td>Obama</td>\n    </tr>\n    <tr>\n      <th>...</th>\n      <td>...</td>\n      <td>...</td>\n      <td>...</td>\n    </tr>\n    <tr>\n      <th>18335</th>\n      <td>2020-06-16</td>\n      <td>True!   …</td>\n      <td>Trump</td>\n    </tr>\n    <tr>\n      <th>18336</th>\n      <td>2020-06-16</td>\n      <td>A GREAT woman. Her son is looking down from he...</td>\n      <td>Trump</td>\n    </tr>\n    <tr>\n      <th>18337</th>\n      <td>2020-06-16</td>\n      <td>96% Approval Rating in the Republican Party. T...</td>\n      <td>Trump</td>\n    </tr>\n    <tr>\n      <th>18338</th>\n      <td>2020-06-17</td>\n      <td>Joe Biden was a TOTAL FAILURE in Government. H...</td>\n      <td>Trump</td>\n    </tr>\n    <tr>\n      <th>18339</th>\n      <td>2020-06-17</td>\n      <td>Will be interviewed on   tonight at 9:00   Enjoy!</td>\n      <td>Trump</td>\n    </tr>\n  </tbody>\n</table>\n<p>18340 rows × 3 columns</p>\n</div>"
     },
     "metadata": {},
     "execution_count": 8
    }
   ],
   "source": [
    "def tags(row): #Twitter tag-elést szűrő fv\n",
    "    return re.sub(r'@ ?(\\w){1,15}', \" \", row['text'] )\n",
    "\n",
    "def picture(row): #képek elé space-t tevő fv Azért kell, mert nem tesznek spacet a kép és az utolsó szó közé, ezért az utolsó szó is törlődik a linkszűrésnél\n",
    "    return re.sub(r'pic.twitter.com/', \" pic.twitter.com/\", row['text'] )\n",
    "\n",
    "def insertspace(row):\n",
    "    return re.sub(r'(https?:\\/\\/)', ' https://', row['text'] )\n",
    "    \n",
    "def urls(row): # linkeket szűrő fv\n",
    "    return re.sub(r'(https?:\\/\\/)?(www\\.)?[-a-zA-Z0-9@:%._\\+~#=]{1,256}\\.[a-zA-Z0-9()]{1,6}\\b([-a-zA-Z0-9()@:%_\\+.~#?&\\/=]*)', \" \", row['text'] )\n",
    "\n",
    "joined_data['text'] = joined_data.apply (lambda row: picture(row), axis=1)\n",
    "joined_data['text'] = joined_data.apply (lambda row: insertspace(row), axis=1)\n",
    "joined_data['text'] = joined_data.apply (lambda row: tags(row), axis=1)\n",
    "joined_data['text'] = joined_data.apply (lambda row: urls(row), axis=1)\n",
    "joined_data = joined_data[joined_data.text != \"  \" ]\n",
    "joined_data = joined_data[joined_data.text != \"  …\" ]\n",
    "joined_data.reset_index(drop=True,inplace=True)\n",
    "\n",
    "joined_data"
   ]
  },
  {
   "cell_type": "code",
   "execution_count": 9,
   "metadata": {},
   "outputs": [
    {
     "output_type": "execute_result",
     "data": {
      "text/plain": [
       "            date                                               text  label\n",
       "0     2012-11-05  President Obama tells the story of \"Fired up! ...      1\n",
       "1     2012-11-06  Election Day is here! Confirm your polling pla...      1\n",
       "2     2012-11-07  Thank you. President Obama in his victory spee...     -1\n",
       "3     2012-11-08  The definition of hope is you still believe ev...     -1\n",
       "4     2012-11-09  What Bobby Kennedy called the ripples of hope ...      1\n",
       "...          ...                                                ...    ...\n",
       "1548  2020-06-11  Our great National Guard Troops who took care ...     -1\n",
       "1549  2020-06-12  People have no idea how Fake the Lamestream Me...     -1\n",
       "1550  2020-06-15  I’ve done more in less than 4 years than Biden...      1\n",
       "1551  2020-06-16  Wow! May retail sales show biggest one-month i...     -1\n",
       "1552  2020-06-17  Joe Biden was a TOTAL FAILURE in Government. H...     -1\n",
       "\n",
       "[1553 rows x 3 columns]"
      ],
      "text/html": "<div>\n<style scoped>\n    .dataframe tbody tr th:only-of-type {\n        vertical-align: middle;\n    }\n\n    .dataframe tbody tr th {\n        vertical-align: top;\n    }\n\n    .dataframe thead th {\n        text-align: right;\n    }\n</style>\n<table border=\"1\" class=\"dataframe\">\n  <thead>\n    <tr style=\"text-align: right;\">\n      <th></th>\n      <th>date</th>\n      <th>text</th>\n      <th>label</th>\n    </tr>\n  </thead>\n  <tbody>\n    <tr>\n      <th>0</th>\n      <td>2012-11-05</td>\n      <td>President Obama tells the story of \"Fired up! ...</td>\n      <td>1</td>\n    </tr>\n    <tr>\n      <th>1</th>\n      <td>2012-11-06</td>\n      <td>Election Day is here! Confirm your polling pla...</td>\n      <td>1</td>\n    </tr>\n    <tr>\n      <th>2</th>\n      <td>2012-11-07</td>\n      <td>Thank you. President Obama in his victory spee...</td>\n      <td>-1</td>\n    </tr>\n    <tr>\n      <th>3</th>\n      <td>2012-11-08</td>\n      <td>The definition of hope is you still believe ev...</td>\n      <td>-1</td>\n    </tr>\n    <tr>\n      <th>4</th>\n      <td>2012-11-09</td>\n      <td>What Bobby Kennedy called the ripples of hope ...</td>\n      <td>1</td>\n    </tr>\n    <tr>\n      <th>...</th>\n      <td>...</td>\n      <td>...</td>\n      <td>...</td>\n    </tr>\n    <tr>\n      <th>1548</th>\n      <td>2020-06-11</td>\n      <td>Our great National Guard Troops who took care ...</td>\n      <td>-1</td>\n    </tr>\n    <tr>\n      <th>1549</th>\n      <td>2020-06-12</td>\n      <td>People have no idea how Fake the Lamestream Me...</td>\n      <td>-1</td>\n    </tr>\n    <tr>\n      <th>1550</th>\n      <td>2020-06-15</td>\n      <td>I’ve done more in less than 4 years than Biden...</td>\n      <td>1</td>\n    </tr>\n    <tr>\n      <th>1551</th>\n      <td>2020-06-16</td>\n      <td>Wow! May retail sales show biggest one-month i...</td>\n      <td>-1</td>\n    </tr>\n    <tr>\n      <th>1552</th>\n      <td>2020-06-17</td>\n      <td>Joe Biden was a TOTAL FAILURE in Government. H...</td>\n      <td>-1</td>\n    </tr>\n  </tbody>\n</table>\n<p>1553 rows × 3 columns</p>\n</div>"
     },
     "metadata": {},
     "execution_count": 9
    }
   ],
   "source": [
    "cjd = pd.DataFrame() #concated joined data a.k.a. az azonos dátumú sorok textjei össze vannak concat-olva\n",
    "cjd['date'] = joined_data.loc[:,'date'].drop_duplicates()\n",
    "cjd.reset_index(drop=True,inplace=True)\n",
    "\n",
    "string_list = []\n",
    "for i in cjd.to_numpy():\n",
    "    temp_string = \"\"\n",
    "    for j in joined_data.loc[joined_data['date'] == i[0]].to_numpy():\n",
    "        temp_string = temp_string + \" \" + j[1]\n",
    "    temp_string = temp_string.replace('\\xa0',' ').replace('…',' ')\n",
    "    temp_string = ' '.join(temp_string.split())\n",
    "    string_list.append(temp_string)\n",
    "cjd['text'] = string_list\n",
    "\n",
    "cjd = cjd.merge(stock_labeled, how='inner', left_on='date', right_on='Date').drop('Date',axis=1)\n",
    "cjd"
   ]
  },
  {
   "cell_type": "markdown",
   "metadata": {},
   "source": [
    "## Kiírás fájlba"
   ]
  },
  {
   "cell_type": "code",
   "execution_count": 11,
   "metadata": {},
   "outputs": [],
   "source": [
    "cjd.to_excel('../Adatok/tisztitott_adat.xlsx')\n",
    "ncjd = joined_data.merge(stock_labeled, how='inner', left_on='date', right_on='Date').drop('Date',axis=1)\n",
    "ncjd.to_excel('../Adatok/non_cdj.xlsx')"
   ]
  },
  {
   "cell_type": "code",
   "execution_count": null,
   "metadata": {},
   "outputs": [],
   "source": []
  }
 ],
 "metadata": {
  "kernelspec": {
   "display_name": "Python 3",
   "language": "python",
   "name": "python3"
  },
  "language_info": {
   "codemirror_mode": {
    "name": "ipython",
    "version": 3
   },
   "file_extension": ".py",
   "mimetype": "text/x-python",
   "name": "python",
   "nbconvert_exporter": "python",
   "pygments_lexer": "ipython3",
   "version": "3.8.3-final"
  }
 },
 "nbformat": 4,
 "nbformat_minor": 4
}